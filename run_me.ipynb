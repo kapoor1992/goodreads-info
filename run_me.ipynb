{
 "cells": [
  {
   "cell_type": "markdown",
   "id": "bde371c6-6b2d-424a-bfda-1932b8dbeea4",
   "metadata": {},
   "source": [
    "Specify inputs only in the cell below."
   ]
  },
  {
   "cell_type": "code",
   "execution_count": 1,
   "id": "ede960e2-9f78-481b-be2d-b72027ff43c2",
   "metadata": {},
   "outputs": [],
   "source": [
    "export_file_path = 'data/goodreads_library_export.csv'"
   ]
  },
  {
   "cell_type": "markdown",
   "id": "a891a3d5-2272-4139-9db2-ff8f0e2d1bb3",
   "metadata": {},
   "source": [
    "Do not change anything except for in the cell above unless you're changing functionality."
   ]
  },
  {
   "cell_type": "code",
   "execution_count": 2,
   "id": "83de3444-0897-4980-84d5-6e55508e5030",
   "metadata": {},
   "outputs": [],
   "source": [
    "import pandas as pd\n",
    "import numpy as np\n",
    "import matplotlib.pyplot as plt"
   ]
  },
  {
   "cell_type": "code",
   "execution_count": 3,
   "id": "383f3b54-37a6-412b-ac14-9a26191e57f1",
   "metadata": {},
   "outputs": [],
   "source": [
    "plt.rcParams['figure.figsize'] = [15, 3]"
   ]
  },
  {
   "cell_type": "code",
   "execution_count": 4,
   "id": "07e19d7e-fba9-42ae-be15-89e8bbb85e95",
   "metadata": {},
   "outputs": [
    {
     "name": "stdout",
     "output_type": "stream",
     "text": [
      "Dataset loaded and prepared.\n"
     ]
    }
   ],
   "source": [
    "df = pd.read_csv(\n",
    "    export_file_path,\n",
    "    usecols=[\n",
    "        'My Rating',\n",
    "        'Average Rating',\n",
    "        'Number of Pages',\n",
    "        'Read Count'\n",
    "    ]\n",
    ")\n",
    "\n",
    "df.rename(columns={'Average Rating': 'Community Rating'}, inplace=True)\n",
    "\n",
    "df['Number of Pages'] = df['Number of Pages'].fillna(0)\n",
    "df['Number of Pages'] = df['Number of Pages'].astype('int64')\n",
    "\n",
    "df = df[df['Read Count'] > 0]\n",
    "df.drop(axis=1, columns=['Read Count'], inplace=True)\n",
    "\n",
    "print('Dataset loaded and prepared.')"
   ]
  },
  {
   "cell_type": "code",
   "execution_count": 5,
   "id": "99cf1e12-026e-45c2-9d83-63eb5f40ad20",
   "metadata": {},
   "outputs": [
    {
     "name": "stdout",
     "output_type": "stream",
     "text": [
      "Total pages read: 57931\n"
     ]
    }
   ],
   "source": [
    "print(f'Total pages read: {df[\"Number of Pages\"].sum()}')"
   ]
  },
  {
   "cell_type": "code",
   "execution_count": 6,
   "id": "3abb399c-e898-4e04-8c03-27d260984626",
   "metadata": {},
   "outputs": [
    {
     "name": "stdout",
     "output_type": "stream",
     "text": [
      "Overall my average ratings:        3.54\n",
      "Overall community average ratings: 4.04\n",
      "Correlation:                       0.4\n"
     ]
    }
   ],
   "source": [
    "comm_ratings_np = df[[\"Community Rating\"]].to_numpy().squeeze()\n",
    "my_ratings_np = df[[\"My Rating\"]].to_numpy().squeeze()\n",
    "\n",
    "print(f'Overall my average ratings:        {round(my_ratings_np.mean(), 2)}')\n",
    "print(f'Overall community average ratings: {round(comm_ratings_np.mean(), 2)}')\n",
    "print(f'Correlation:                       {round(np.corrcoef(comm_ratings_np, my_ratings_np)[0][1], 2)}')"
   ]
  },
  {
   "cell_type": "code",
   "execution_count": 7,
   "id": "dbe917f0-9ff2-4af1-bbff-8bc05f242698",
   "metadata": {},
   "outputs": [
    {
     "data": {
      "image/png": "[encoded data removed]",
      "text/plain": [
       "<Figure size 1080x216 with 1 Axes>"
      ]
     },
     "metadata": {
      "needs_background": "light"
     },
     "output_type": "display_data"
    }
   ],
   "source": [
    "ticks = [i/2 for i in range(2, 11)]\n",
    "\n",
    "fig, ax = plt.subplots()\n",
    "ax.scatter(comm_ratings_np, my_ratings_np, color='brown')\n",
    "\n",
    "# Credit: https://stackoverflow.com/questions/22239691/code-for-best-fit-straight-line-of-a-scatter-plot-in-python\n",
    "ax.plot(np.unique(comm_ratings_np), np.poly1d(np.polyfit(comm_ratings_np, my_ratings_np, 1))(np.unique(comm_ratings_np)))\n",
    "\n",
    "ax.set_xticks(ticks=ticks)\n",
    "ax.set_yticks(ticks=ticks)\n",
    "ax.title.set_text('My Ratings vs. Community Ratings')"
   ]
  },
  {
   "cell_type": "code",
   "execution_count": null,
   "id": "8d3e20c4-579c-4423-b0b1-cd04cdf14c43",
   "metadata": {},
   "outputs": [],
   "source": []
  }
 ],
 "metadata": {
  "kernelspec": {
   "display_name": "Python 3 (ipykernel)",
   "language": "python",
   "name": "python3"
  },
  "language_info": {
   "codemirror_mode": {
    "name": "ipython",
    "version": 3
   },
   "file_extension": ".py",
   "mimetype": "text/x-python",
   "name": "python",
   "nbconvert_exporter": "python",
   "pygments_lexer": "ipython3",
   "version": "3.8.12"
  }
 },
 "nbformat": 4,
 "nbformat_minor": 5
}
